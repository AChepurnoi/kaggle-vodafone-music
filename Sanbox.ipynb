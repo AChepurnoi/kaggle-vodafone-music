{
 "cells": [
  {
   "cell_type": "code",
   "execution_count": 23,
   "metadata": {},
   "outputs": [],
   "source": [
    "import pandas as pd\n",
    "import numpy as np"
   ]
  },
  {
   "cell_type": "code",
   "execution_count": 24,
   "metadata": {},
   "outputs": [],
   "source": [
    "from src.data import prepare_folds"
   ]
  },
  {
   "cell_type": "code",
   "execution_count": 25,
   "metadata": {},
   "outputs": [],
   "source": [
    "train = pd.read_pickle(\"data/v3/train.pkl\")"
   ]
  },
  {
   "cell_type": "code",
   "execution_count": null,
   "metadata": {},
   "outputs": [],
   "source": []
  },
  {
   "cell_type": "code",
   "execution_count": 29,
   "metadata": {},
   "outputs": [],
   "source": []
  },
  {
   "cell_type": "code",
   "execution_count": 32,
   "metadata": {},
   "outputs": [],
   "source": [
    "threshold = 0.9"
   ]
  },
  {
   "cell_type": "code",
   "execution_count": 33,
   "metadata": {},
   "outputs": [
    {
     "data": {
      "text/html": [
       "<div>\n",
       "<style scoped>\n",
       "    .dataframe tbody tr th:only-of-type {\n",
       "        vertical-align: middle;\n",
       "    }\n",
       "\n",
       "    .dataframe tbody tr th {\n",
       "        vertical-align: top;\n",
       "    }\n",
       "\n",
       "    .dataframe thead th {\n",
       "        text-align: right;\n",
       "    }\n",
       "</style>\n",
       "<table border=\"1\" class=\"dataframe\">\n",
       "  <thead>\n",
       "    <tr style=\"text-align: right;\">\n",
       "      <th></th>\n",
       "      <th>balance_sum</th>\n",
       "      <th>content_count_m1</th>\n",
       "      <th>content_count_m3</th>\n",
       "      <th>data_type_2_m1</th>\n",
       "      <th>data_type_3_m1</th>\n",
       "      <th>days_exp</th>\n",
       "      <th>id</th>\n",
       "      <th>lt</th>\n",
       "      <th>count_app_4</th>\n",
       "      <th>data_type_1_m1</th>\n",
       "      <th>...</th>\n",
       "      <th>vol_app_7_prod_all_cost_m1</th>\n",
       "      <th>content_count_m1_prod_short_out_calls_part_m2</th>\n",
       "      <th>content_count_m3_prod_count_app_4</th>\n",
       "      <th>vol_app_5_prod_all_cost_m3</th>\n",
       "      <th>vol_app_4_prod_paym_last_days</th>\n",
       "      <th>com_num_cost_m2_prod_lt</th>\n",
       "      <th>content_count_m2_prod_short_out_calls_part_m2</th>\n",
       "      <th>conn_com_cost_m1_prod_all_count_m3</th>\n",
       "      <th>voice_in_uniq_count_m1_prod_short_in_calls_part_m1</th>\n",
       "      <th>conn_com_cost_m1_prod_all_cost_m2</th>\n",
       "    </tr>\n",
       "  </thead>\n",
       "  <tbody>\n",
       "    <tr>\n",
       "      <th>balance_sum</th>\n",
       "      <td>1.000000</td>\n",
       "      <td>0.001061</td>\n",
       "      <td>0.028055</td>\n",
       "      <td>0.004198</td>\n",
       "      <td>0.000502</td>\n",
       "      <td>0.043844</td>\n",
       "      <td>0.048245</td>\n",
       "      <td>0.065909</td>\n",
       "      <td>0.014109</td>\n",
       "      <td>0.014585</td>\n",
       "      <td>...</td>\n",
       "      <td>0.002811</td>\n",
       "      <td>0.009297</td>\n",
       "      <td>0.029071</td>\n",
       "      <td>0.002693</td>\n",
       "      <td>0.004669</td>\n",
       "      <td>0.032729</td>\n",
       "      <td>0.015765</td>\n",
       "      <td>0.034115</td>\n",
       "      <td>0.078145</td>\n",
       "      <td>0.031762</td>\n",
       "    </tr>\n",
       "    <tr>\n",
       "      <th>content_count_m1</th>\n",
       "      <td>0.001061</td>\n",
       "      <td>1.000000</td>\n",
       "      <td>0.751717</td>\n",
       "      <td>0.111530</td>\n",
       "      <td>0.081503</td>\n",
       "      <td>0.111307</td>\n",
       "      <td>0.028594</td>\n",
       "      <td>0.032032</td>\n",
       "      <td>0.080355</td>\n",
       "      <td>0.069493</td>\n",
       "      <td>...</td>\n",
       "      <td>0.092587</td>\n",
       "      <td>0.431442</td>\n",
       "      <td>0.315879</td>\n",
       "      <td>0.069190</td>\n",
       "      <td>0.028849</td>\n",
       "      <td>0.120168</td>\n",
       "      <td>0.368792</td>\n",
       "      <td>0.159575</td>\n",
       "      <td>0.189037</td>\n",
       "      <td>0.135726</td>\n",
       "    </tr>\n",
       "    <tr>\n",
       "      <th>content_count_m3</th>\n",
       "      <td>0.028055</td>\n",
       "      <td>0.751717</td>\n",
       "      <td>1.000000</td>\n",
       "      <td>0.122113</td>\n",
       "      <td>0.088672</td>\n",
       "      <td>0.123998</td>\n",
       "      <td>0.025770</td>\n",
       "      <td>0.023506</td>\n",
       "      <td>0.087324</td>\n",
       "      <td>0.062336</td>\n",
       "      <td>...</td>\n",
       "      <td>0.080931</td>\n",
       "      <td>0.391353</td>\n",
       "      <td>0.401630</td>\n",
       "      <td>0.112572</td>\n",
       "      <td>0.031337</td>\n",
       "      <td>0.142461</td>\n",
       "      <td>0.389061</td>\n",
       "      <td>0.196496</td>\n",
       "      <td>0.193654</td>\n",
       "      <td>0.142665</td>\n",
       "    </tr>\n",
       "    <tr>\n",
       "      <th>data_type_2_m1</th>\n",
       "      <td>0.004198</td>\n",
       "      <td>0.111530</td>\n",
       "      <td>0.122113</td>\n",
       "      <td>1.000000</td>\n",
       "      <td>0.414275</td>\n",
       "      <td>0.102711</td>\n",
       "      <td>0.111974</td>\n",
       "      <td>0.093026</td>\n",
       "      <td>0.223196</td>\n",
       "      <td>0.367924</td>\n",
       "      <td>...</td>\n",
       "      <td>0.361009</td>\n",
       "      <td>0.064543</td>\n",
       "      <td>0.200155</td>\n",
       "      <td>0.457713</td>\n",
       "      <td>0.020356</td>\n",
       "      <td>0.139898</td>\n",
       "      <td>0.063712</td>\n",
       "      <td>0.255355</td>\n",
       "      <td>0.071825</td>\n",
       "      <td>0.152868</td>\n",
       "    </tr>\n",
       "    <tr>\n",
       "      <th>data_type_3_m1</th>\n",
       "      <td>0.000502</td>\n",
       "      <td>0.081503</td>\n",
       "      <td>0.088672</td>\n",
       "      <td>0.414275</td>\n",
       "      <td>1.000000</td>\n",
       "      <td>0.079882</td>\n",
       "      <td>0.068978</td>\n",
       "      <td>0.058851</td>\n",
       "      <td>0.203513</td>\n",
       "      <td>0.433677</td>\n",
       "      <td>...</td>\n",
       "      <td>0.222297</td>\n",
       "      <td>0.045582</td>\n",
       "      <td>0.170472</td>\n",
       "      <td>0.262039</td>\n",
       "      <td>0.010749</td>\n",
       "      <td>0.101825</td>\n",
       "      <td>0.046092</td>\n",
       "      <td>0.230871</td>\n",
       "      <td>0.064247</td>\n",
       "      <td>0.108594</td>\n",
       "    </tr>\n",
       "  </tbody>\n",
       "</table>\n",
       "<p>5 rows × 2713 columns</p>\n",
       "</div>"
      ],
      "text/plain": [
       "                  balance_sum  content_count_m1  content_count_m3  \\\n",
       "balance_sum          1.000000          0.001061          0.028055   \n",
       "content_count_m1     0.001061          1.000000          0.751717   \n",
       "content_count_m3     0.028055          0.751717          1.000000   \n",
       "data_type_2_m1       0.004198          0.111530          0.122113   \n",
       "data_type_3_m1       0.000502          0.081503          0.088672   \n",
       "\n",
       "                  data_type_2_m1  data_type_3_m1  days_exp        id  \\\n",
       "balance_sum             0.004198        0.000502  0.043844  0.048245   \n",
       "content_count_m1        0.111530        0.081503  0.111307  0.028594   \n",
       "content_count_m3        0.122113        0.088672  0.123998  0.025770   \n",
       "data_type_2_m1          1.000000        0.414275  0.102711  0.111974   \n",
       "data_type_3_m1          0.414275        1.000000  0.079882  0.068978   \n",
       "\n",
       "                        lt  count_app_4  data_type_1_m1  \\\n",
       "balance_sum       0.065909     0.014109        0.014585   \n",
       "content_count_m1  0.032032     0.080355        0.069493   \n",
       "content_count_m3  0.023506     0.087324        0.062336   \n",
       "data_type_2_m1    0.093026     0.223196        0.367924   \n",
       "data_type_3_m1    0.058851     0.203513        0.433677   \n",
       "\n",
       "                                ...                  \\\n",
       "balance_sum                     ...                   \n",
       "content_count_m1                ...                   \n",
       "content_count_m3                ...                   \n",
       "data_type_2_m1                  ...                   \n",
       "data_type_3_m1                  ...                   \n",
       "\n",
       "                  vol_app_7_prod_all_cost_m1  \\\n",
       "balance_sum                         0.002811   \n",
       "content_count_m1                    0.092587   \n",
       "content_count_m3                    0.080931   \n",
       "data_type_2_m1                      0.361009   \n",
       "data_type_3_m1                      0.222297   \n",
       "\n",
       "                  content_count_m1_prod_short_out_calls_part_m2  \\\n",
       "balance_sum                                            0.009297   \n",
       "content_count_m1                                       0.431442   \n",
       "content_count_m3                                       0.391353   \n",
       "data_type_2_m1                                         0.064543   \n",
       "data_type_3_m1                                         0.045582   \n",
       "\n",
       "                  content_count_m3_prod_count_app_4  \\\n",
       "balance_sum                                0.029071   \n",
       "content_count_m1                           0.315879   \n",
       "content_count_m3                           0.401630   \n",
       "data_type_2_m1                             0.200155   \n",
       "data_type_3_m1                             0.170472   \n",
       "\n",
       "                  vol_app_5_prod_all_cost_m3  vol_app_4_prod_paym_last_days  \\\n",
       "balance_sum                         0.002693                       0.004669   \n",
       "content_count_m1                    0.069190                       0.028849   \n",
       "content_count_m3                    0.112572                       0.031337   \n",
       "data_type_2_m1                      0.457713                       0.020356   \n",
       "data_type_3_m1                      0.262039                       0.010749   \n",
       "\n",
       "                  com_num_cost_m2_prod_lt  \\\n",
       "balance_sum                      0.032729   \n",
       "content_count_m1                 0.120168   \n",
       "content_count_m3                 0.142461   \n",
       "data_type_2_m1                   0.139898   \n",
       "data_type_3_m1                   0.101825   \n",
       "\n",
       "                  content_count_m2_prod_short_out_calls_part_m2  \\\n",
       "balance_sum                                            0.015765   \n",
       "content_count_m1                                       0.368792   \n",
       "content_count_m3                                       0.389061   \n",
       "data_type_2_m1                                         0.063712   \n",
       "data_type_3_m1                                         0.046092   \n",
       "\n",
       "                  conn_com_cost_m1_prod_all_count_m3  \\\n",
       "balance_sum                                 0.034115   \n",
       "content_count_m1                            0.159575   \n",
       "content_count_m3                            0.196496   \n",
       "data_type_2_m1                              0.255355   \n",
       "data_type_3_m1                              0.230871   \n",
       "\n",
       "                  voice_in_uniq_count_m1_prod_short_in_calls_part_m1  \\\n",
       "balance_sum                                                0.078145    \n",
       "content_count_m1                                           0.189037    \n",
       "content_count_m3                                           0.193654    \n",
       "data_type_2_m1                                             0.071825    \n",
       "data_type_3_m1                                             0.064247    \n",
       "\n",
       "                  conn_com_cost_m1_prod_all_cost_m2  \n",
       "balance_sum                                0.031762  \n",
       "content_count_m1                           0.135726  \n",
       "content_count_m3                           0.142665  \n",
       "data_type_2_m1                             0.152868  \n",
       "data_type_3_m1                             0.108594  \n",
       "\n",
       "[5 rows x 2713 columns]"
      ]
     },
     "execution_count": 33,
     "metadata": {},
     "output_type": "execute_result"
    }
   ],
   "source": [
    "corr_matrix = train.corr().abs()\n",
    "corr_matrix.head()"
   ]
  },
  {
   "cell_type": "code",
   "execution_count": 34,
   "metadata": {},
   "outputs": [
    {
     "data": {
      "text/html": [
       "<div>\n",
       "<style scoped>\n",
       "    .dataframe tbody tr th:only-of-type {\n",
       "        vertical-align: middle;\n",
       "    }\n",
       "\n",
       "    .dataframe tbody tr th {\n",
       "        vertical-align: top;\n",
       "    }\n",
       "\n",
       "    .dataframe thead th {\n",
       "        text-align: right;\n",
       "    }\n",
       "</style>\n",
       "<table border=\"1\" class=\"dataframe\">\n",
       "  <thead>\n",
       "    <tr style=\"text-align: right;\">\n",
       "      <th></th>\n",
       "      <th>balance_sum</th>\n",
       "      <th>content_count_m1</th>\n",
       "      <th>content_count_m3</th>\n",
       "      <th>data_type_2_m1</th>\n",
       "      <th>data_type_3_m1</th>\n",
       "      <th>days_exp</th>\n",
       "      <th>id</th>\n",
       "      <th>lt</th>\n",
       "      <th>count_app_4</th>\n",
       "      <th>data_type_1_m1</th>\n",
       "      <th>...</th>\n",
       "      <th>vol_app_7_prod_all_cost_m1</th>\n",
       "      <th>content_count_m1_prod_short_out_calls_part_m2</th>\n",
       "      <th>content_count_m3_prod_count_app_4</th>\n",
       "      <th>vol_app_5_prod_all_cost_m3</th>\n",
       "      <th>vol_app_4_prod_paym_last_days</th>\n",
       "      <th>com_num_cost_m2_prod_lt</th>\n",
       "      <th>content_count_m2_prod_short_out_calls_part_m2</th>\n",
       "      <th>conn_com_cost_m1_prod_all_count_m3</th>\n",
       "      <th>voice_in_uniq_count_m1_prod_short_in_calls_part_m1</th>\n",
       "      <th>conn_com_cost_m1_prod_all_cost_m2</th>\n",
       "    </tr>\n",
       "  </thead>\n",
       "  <tbody>\n",
       "    <tr>\n",
       "      <th>balance_sum</th>\n",
       "      <td>NaN</td>\n",
       "      <td>0.001061</td>\n",
       "      <td>0.028055</td>\n",
       "      <td>0.004198</td>\n",
       "      <td>0.000502</td>\n",
       "      <td>0.043844</td>\n",
       "      <td>0.048245</td>\n",
       "      <td>0.065909</td>\n",
       "      <td>0.014109</td>\n",
       "      <td>0.014585</td>\n",
       "      <td>...</td>\n",
       "      <td>0.002811</td>\n",
       "      <td>0.009297</td>\n",
       "      <td>0.029071</td>\n",
       "      <td>0.002693</td>\n",
       "      <td>0.004669</td>\n",
       "      <td>0.032729</td>\n",
       "      <td>0.015765</td>\n",
       "      <td>0.034115</td>\n",
       "      <td>0.078145</td>\n",
       "      <td>0.031762</td>\n",
       "    </tr>\n",
       "    <tr>\n",
       "      <th>content_count_m1</th>\n",
       "      <td>NaN</td>\n",
       "      <td>NaN</td>\n",
       "      <td>0.751717</td>\n",
       "      <td>0.111530</td>\n",
       "      <td>0.081503</td>\n",
       "      <td>0.111307</td>\n",
       "      <td>0.028594</td>\n",
       "      <td>0.032032</td>\n",
       "      <td>0.080355</td>\n",
       "      <td>0.069493</td>\n",
       "      <td>...</td>\n",
       "      <td>0.092587</td>\n",
       "      <td>0.431442</td>\n",
       "      <td>0.315879</td>\n",
       "      <td>0.069190</td>\n",
       "      <td>0.028849</td>\n",
       "      <td>0.120168</td>\n",
       "      <td>0.368792</td>\n",
       "      <td>0.159575</td>\n",
       "      <td>0.189037</td>\n",
       "      <td>0.135726</td>\n",
       "    </tr>\n",
       "    <tr>\n",
       "      <th>content_count_m3</th>\n",
       "      <td>NaN</td>\n",
       "      <td>NaN</td>\n",
       "      <td>NaN</td>\n",
       "      <td>0.122113</td>\n",
       "      <td>0.088672</td>\n",
       "      <td>0.123998</td>\n",
       "      <td>0.025770</td>\n",
       "      <td>0.023506</td>\n",
       "      <td>0.087324</td>\n",
       "      <td>0.062336</td>\n",
       "      <td>...</td>\n",
       "      <td>0.080931</td>\n",
       "      <td>0.391353</td>\n",
       "      <td>0.401630</td>\n",
       "      <td>0.112572</td>\n",
       "      <td>0.031337</td>\n",
       "      <td>0.142461</td>\n",
       "      <td>0.389061</td>\n",
       "      <td>0.196496</td>\n",
       "      <td>0.193654</td>\n",
       "      <td>0.142665</td>\n",
       "    </tr>\n",
       "    <tr>\n",
       "      <th>data_type_2_m1</th>\n",
       "      <td>NaN</td>\n",
       "      <td>NaN</td>\n",
       "      <td>NaN</td>\n",
       "      <td>NaN</td>\n",
       "      <td>0.414275</td>\n",
       "      <td>0.102711</td>\n",
       "      <td>0.111974</td>\n",
       "      <td>0.093026</td>\n",
       "      <td>0.223196</td>\n",
       "      <td>0.367924</td>\n",
       "      <td>...</td>\n",
       "      <td>0.361009</td>\n",
       "      <td>0.064543</td>\n",
       "      <td>0.200155</td>\n",
       "      <td>0.457713</td>\n",
       "      <td>0.020356</td>\n",
       "      <td>0.139898</td>\n",
       "      <td>0.063712</td>\n",
       "      <td>0.255355</td>\n",
       "      <td>0.071825</td>\n",
       "      <td>0.152868</td>\n",
       "    </tr>\n",
       "    <tr>\n",
       "      <th>data_type_3_m1</th>\n",
       "      <td>NaN</td>\n",
       "      <td>NaN</td>\n",
       "      <td>NaN</td>\n",
       "      <td>NaN</td>\n",
       "      <td>NaN</td>\n",
       "      <td>0.079882</td>\n",
       "      <td>0.068978</td>\n",
       "      <td>0.058851</td>\n",
       "      <td>0.203513</td>\n",
       "      <td>0.433677</td>\n",
       "      <td>...</td>\n",
       "      <td>0.222297</td>\n",
       "      <td>0.045582</td>\n",
       "      <td>0.170472</td>\n",
       "      <td>0.262039</td>\n",
       "      <td>0.010749</td>\n",
       "      <td>0.101825</td>\n",
       "      <td>0.046092</td>\n",
       "      <td>0.230871</td>\n",
       "      <td>0.064247</td>\n",
       "      <td>0.108594</td>\n",
       "    </tr>\n",
       "  </tbody>\n",
       "</table>\n",
       "<p>5 rows × 2713 columns</p>\n",
       "</div>"
      ],
      "text/plain": [
       "                  balance_sum  content_count_m1  content_count_m3  \\\n",
       "balance_sum               NaN          0.001061          0.028055   \n",
       "content_count_m1          NaN               NaN          0.751717   \n",
       "content_count_m3          NaN               NaN               NaN   \n",
       "data_type_2_m1            NaN               NaN               NaN   \n",
       "data_type_3_m1            NaN               NaN               NaN   \n",
       "\n",
       "                  data_type_2_m1  data_type_3_m1  days_exp        id  \\\n",
       "balance_sum             0.004198        0.000502  0.043844  0.048245   \n",
       "content_count_m1        0.111530        0.081503  0.111307  0.028594   \n",
       "content_count_m3        0.122113        0.088672  0.123998  0.025770   \n",
       "data_type_2_m1               NaN        0.414275  0.102711  0.111974   \n",
       "data_type_3_m1               NaN             NaN  0.079882  0.068978   \n",
       "\n",
       "                        lt  count_app_4  data_type_1_m1  \\\n",
       "balance_sum       0.065909     0.014109        0.014585   \n",
       "content_count_m1  0.032032     0.080355        0.069493   \n",
       "content_count_m3  0.023506     0.087324        0.062336   \n",
       "data_type_2_m1    0.093026     0.223196        0.367924   \n",
       "data_type_3_m1    0.058851     0.203513        0.433677   \n",
       "\n",
       "                                ...                  \\\n",
       "balance_sum                     ...                   \n",
       "content_count_m1                ...                   \n",
       "content_count_m3                ...                   \n",
       "data_type_2_m1                  ...                   \n",
       "data_type_3_m1                  ...                   \n",
       "\n",
       "                  vol_app_7_prod_all_cost_m1  \\\n",
       "balance_sum                         0.002811   \n",
       "content_count_m1                    0.092587   \n",
       "content_count_m3                    0.080931   \n",
       "data_type_2_m1                      0.361009   \n",
       "data_type_3_m1                      0.222297   \n",
       "\n",
       "                  content_count_m1_prod_short_out_calls_part_m2  \\\n",
       "balance_sum                                            0.009297   \n",
       "content_count_m1                                       0.431442   \n",
       "content_count_m3                                       0.391353   \n",
       "data_type_2_m1                                         0.064543   \n",
       "data_type_3_m1                                         0.045582   \n",
       "\n",
       "                  content_count_m3_prod_count_app_4  \\\n",
       "balance_sum                                0.029071   \n",
       "content_count_m1                           0.315879   \n",
       "content_count_m3                           0.401630   \n",
       "data_type_2_m1                             0.200155   \n",
       "data_type_3_m1                             0.170472   \n",
       "\n",
       "                  vol_app_5_prod_all_cost_m3  vol_app_4_prod_paym_last_days  \\\n",
       "balance_sum                         0.002693                       0.004669   \n",
       "content_count_m1                    0.069190                       0.028849   \n",
       "content_count_m3                    0.112572                       0.031337   \n",
       "data_type_2_m1                      0.457713                       0.020356   \n",
       "data_type_3_m1                      0.262039                       0.010749   \n",
       "\n",
       "                  com_num_cost_m2_prod_lt  \\\n",
       "balance_sum                      0.032729   \n",
       "content_count_m1                 0.120168   \n",
       "content_count_m3                 0.142461   \n",
       "data_type_2_m1                   0.139898   \n",
       "data_type_3_m1                   0.101825   \n",
       "\n",
       "                  content_count_m2_prod_short_out_calls_part_m2  \\\n",
       "balance_sum                                            0.015765   \n",
       "content_count_m1                                       0.368792   \n",
       "content_count_m3                                       0.389061   \n",
       "data_type_2_m1                                         0.063712   \n",
       "data_type_3_m1                                         0.046092   \n",
       "\n",
       "                  conn_com_cost_m1_prod_all_count_m3  \\\n",
       "balance_sum                                 0.034115   \n",
       "content_count_m1                            0.159575   \n",
       "content_count_m3                            0.196496   \n",
       "data_type_2_m1                              0.255355   \n",
       "data_type_3_m1                              0.230871   \n",
       "\n",
       "                  voice_in_uniq_count_m1_prod_short_in_calls_part_m1  \\\n",
       "balance_sum                                                0.078145    \n",
       "content_count_m1                                           0.189037    \n",
       "content_count_m3                                           0.193654    \n",
       "data_type_2_m1                                             0.071825    \n",
       "data_type_3_m1                                             0.064247    \n",
       "\n",
       "                  conn_com_cost_m1_prod_all_cost_m2  \n",
       "balance_sum                                0.031762  \n",
       "content_count_m1                           0.135726  \n",
       "content_count_m3                           0.142665  \n",
       "data_type_2_m1                             0.152868  \n",
       "data_type_3_m1                             0.108594  \n",
       "\n",
       "[5 rows x 2713 columns]"
      ]
     },
     "execution_count": 34,
     "metadata": {},
     "output_type": "execute_result"
    }
   ],
   "source": [
    "upper = corr_matrix.where(np.triu(np.ones(corr_matrix.shape), k=1).astype(np.bool))\n",
    "upper.head()"
   ]
  },
  {
   "cell_type": "code",
   "execution_count": 35,
   "metadata": {},
   "outputs": [
    {
     "name": "stdout",
     "output_type": "stream",
     "text": [
      "There are 1252 columns to remove.\n"
     ]
    }
   ],
   "source": [
    "to_drop = [column for column in upper.columns if any(upper[column] > threshold)]\n",
    "\n",
    "print('There are %d columns to remove.' % (len(to_drop)))"
   ]
  },
  {
   "cell_type": "code",
   "execution_count": 36,
   "metadata": {},
   "outputs": [
    {
     "data": {
      "text/plain": [
       "count_url_category_12    0.983129\n",
       "vol_app_11               0.977329\n",
       "count_app_13             0.973143\n",
       "vol_app_13               0.973143\n",
       "count_gift_type_4        0.969586\n",
       "dtype: float64"
      ]
     },
     "execution_count": 36,
     "metadata": {},
     "output_type": "execute_result"
    }
   ],
   "source": [
    "train_missing = (train.isnull().sum() / len(train)).sort_values(ascending = False)\n",
    "train_missing.head()"
   ]
  },
  {
   "cell_type": "code",
   "execution_count": 37,
   "metadata": {},
   "outputs": [],
   "source": [
    "train_missing = train_missing.index[train_missing > 0.75]"
   ]
  },
  {
   "cell_type": "code",
   "execution_count": 38,
   "metadata": {},
   "outputs": [
    {
     "name": "stdout",
     "output_type": "stream",
     "text": [
      "There are 89 columns with more than 75% missing values\n"
     ]
    }
   ],
   "source": [
    "all_missing = list(set(set(train_missing)))\n",
    "print('There are %d columns with more than 75%% missing values' % len(all_missing))"
   ]
  },
  {
   "cell_type": "code",
   "execution_count": 57,
   "metadata": {},
   "outputs": [],
   "source": [
    "nuq = train.apply(lambda x: len(x.unique()))"
   ]
  },
  {
   "cell_type": "code",
   "execution_count": null,
   "metadata": {},
   "outputs": [],
   "source": []
  },
  {
   "cell_type": "code",
   "execution_count": null,
   "metadata": {},
   "outputs": [],
   "source": []
  },
  {
   "cell_type": "code",
   "execution_count": null,
   "metadata": {},
   "outputs": [],
   "source": []
  },
  {
   "cell_type": "code",
   "execution_count": null,
   "metadata": {},
   "outputs": [],
   "source": []
  },
  {
   "cell_type": "code",
   "execution_count": null,
   "metadata": {},
   "outputs": [],
   "source": []
  },
  {
   "cell_type": "code",
   "execution_count": 14,
   "metadata": {},
   "outputs": [
    {
     "data": {
      "text/plain": [
       "(70134, 637)"
      ]
     },
     "execution_count": 14,
     "metadata": {},
     "output_type": "execute_result"
    }
   ],
   "source": [
    "train.shape"
   ]
  },
  {
   "cell_type": "code",
   "execution_count": null,
   "metadata": {},
   "outputs": [],
   "source": []
  },
  {
   "cell_type": "code",
   "execution_count": 25,
   "metadata": {},
   "outputs": [
    {
     "data": {
      "text/plain": [
       "(30058, 460)"
      ]
     },
     "execution_count": 25,
     "metadata": {},
     "output_type": "execute_result"
    }
   ],
   "source": [
    "ss.shape"
   ]
  },
  {
   "cell_type": "code",
   "execution_count": 14,
   "metadata": {},
   "outputs": [],
   "source": [
    "ss['id'] = ss.apply(lambda x: \"ID_{}\".format(int(x.id)),axis=1)"
   ]
  },
  {
   "cell_type": "code",
   "execution_count": 16,
   "metadata": {},
   "outputs": [],
   "source": [
    "ss['prediction'] = 0.0"
   ]
  },
  {
   "cell_type": "code",
   "execution_count": 17,
   "metadata": {},
   "outputs": [],
   "source": [
    "ss[['id', 'prediction']].to_csv(\"data_o/sample_submission_music.csv\", index=False)"
   ]
  },
  {
   "cell_type": "code",
   "execution_count": 4,
   "metadata": {},
   "outputs": [],
   "source": [
    "im = pd.read_csv('data/v3/inter_importances.csv', index_col=0)"
   ]
  },
  {
   "cell_type": "code",
   "execution_count": 7,
   "metadata": {},
   "outputs": [],
   "source": [
    "data = pd.read_pickle('data/v2/train.pkl')"
   ]
  },
  {
   "cell_type": "code",
   "execution_count": 10,
   "metadata": {},
   "outputs": [
    {
     "data": {
      "text/plain": [
       "0    23.0\n",
       "1    30.0\n",
       "2    52.0\n",
       "3    32.0\n",
       "4    65.0\n",
       "Name: content_count_m1, dtype: float64"
      ]
     },
     "execution_count": 10,
     "metadata": {},
     "output_type": "execute_result"
    }
   ],
   "source": [
    "data['content_count_m1'].head()"
   ]
  },
  {
   "cell_type": "code",
   "execution_count": null,
   "metadata": {},
   "outputs": [],
   "source": []
  },
  {
   "cell_type": "code",
   "execution_count": 35,
   "metadata": {},
   "outputs": [],
   "source": [
    "data = pd.read_pickle('data/v3/train.pkl')"
   ]
  },
  {
   "cell_type": "code",
   "execution_count": 16,
   "metadata": {},
   "outputs": [],
   "source": [
    "c = data.corr().abs()\n",
    "\n",
    "s = c.unstack()\n",
    "so = s.sort_values(kind=\"quicksort\")"
   ]
  },
  {
   "cell_type": "code",
   "execution_count": null,
   "metadata": {},
   "outputs": [],
   "source": []
  },
  {
   "cell_type": "code",
   "execution_count": null,
   "metadata": {},
   "outputs": [],
   "source": []
  },
  {
   "cell_type": "code",
   "execution_count": null,
   "metadata": {},
   "outputs": [],
   "source": []
  },
  {
   "cell_type": "code",
   "execution_count": null,
   "metadata": {},
   "outputs": [],
   "source": []
  }
 ],
 "metadata": {
  "kernelspec": {
   "display_name": "Python 3",
   "language": "python",
   "name": "python3"
  },
  "language_info": {
   "codemirror_mode": {
    "name": "ipython",
    "version": 3
   },
   "file_extension": ".py",
   "mimetype": "text/x-python",
   "name": "python",
   "nbconvert_exporter": "python",
   "pygments_lexer": "ipython3",
   "version": "3.7.0"
  }
 },
 "nbformat": 4,
 "nbformat_minor": 2
}
