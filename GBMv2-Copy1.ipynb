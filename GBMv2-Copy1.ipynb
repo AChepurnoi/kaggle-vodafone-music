{
 "cells": [
  {
   "cell_type": "code",
   "execution_count": 134,
   "metadata": {},
   "outputs": [],
   "source": [
    "import lightgbm as lgb\n",
    "import pandas as pd\n",
    "import numpy as np\n",
    "from sklearn.metrics import roc_auc_score, f1_score, precision_score, confusion_matrix, classification_report\n",
    "from sklearn.model_selection import train_test_split, StratifiedKFold\n",
    "from hyperopt import hp, tpe\n",
    "from hyperopt.fmin import fmin\n",
    "from imblearn.over_sampling import SMOTE, ADASYN\n",
    "from imblearn.under_sampling import RandomUnderSampler\n",
    "import matplotlib.pyplot as plt\n",
    "from sklearn.ensemble import ExtraTreesClassifier\n",
    "from sklearn.feature_selection import SelectFromModel"
   ]
  },
  {
   "cell_type": "code",
   "execution_count": 135,
   "metadata": {},
   "outputs": [],
   "source": [
    "# data = pd.read_csv('data/train_music.csv')"
   ]
  },
  {
   "cell_type": "code",
   "execution_count": 136,
   "metadata": {},
   "outputs": [],
   "source": [
    "data = pd.read_pickle('data/train.pkl')"
   ]
  },
  {
   "cell_type": "code",
   "execution_count": 137,
   "metadata": {},
   "outputs": [],
   "source": [
    "global_config = {\n",
    "    'folds': 5\n",
    "}"
   ]
  },
  {
   "cell_type": "code",
   "execution_count": 154,
   "metadata": {},
   "outputs": [],
   "source": [
    "data = data.drop(columns=zero_importance)"
   ]
  },
  {
   "cell_type": "code",
   "execution_count": 138,
   "metadata": {},
   "outputs": [],
   "source": [
    "def prepare_folds(data):\n",
    "    kfold = StratifiedKFold(n_splits=global_config['folds'], random_state=42)\n",
    "    folds_data = []\n",
    "    for ids in kfold.split(data.id.values, data.target.values):\n",
    "        train, test = ids\n",
    "        folds_data.append((data.iloc[train], data.iloc[test]))\n",
    "        \n",
    "    return folds_data"
   ]
  },
  {
   "cell_type": "code",
   "execution_count": 139,
   "metadata": {},
   "outputs": [],
   "source": [
    "def train_lgbm(train, val, config):\n",
    "    train_x = train.drop(columns=['target', 'id']).fillna(-9999)\n",
    "    train_y = train.target\n",
    "    \n",
    "    test_x = val.drop(columns=['target', 'id']).fillna(-9999)\n",
    "    test_y = val.target\n",
    "    \n",
    "    cols = list(train_x.columns)\n",
    "    \n",
    "    xgtrain = lgb.Dataset(train_x, label=train_y)\n",
    "    \n",
    "    xgvalid = lgb.Dataset(test_x, label=test_y)\n",
    "    \n",
    "    \n",
    "    clf = lgb.train(config, \n",
    "                     xgtrain, \n",
    "                     valid_sets=[xgtrain, xgvalid], \n",
    "                     valid_names=['train','valid'],\n",
    "                     early_stopping_rounds=500,\n",
    "                     verbose_eval=50)\n",
    "\n",
    "    n_estimators = clf.best_iteration\n",
    "    predicted = clf.predict(test_x)\n",
    "    score = roc_auc_score(test_y, predicted)\n",
    "    prec = precision_score(test_y, (predicted > 0.5).astype(int))\n",
    "    f1 = f1_score(test_y, (predicted > 0.5).astype(int))\n",
    "    print(\"Confusion matrix:\")\n",
    "    print(confusion_matrix(test_y, (predicted > 0.5).astype(int)))\n",
    "    print(\"Report:\")\n",
    "    print(classification_report(test_y, (predicted > 0.5).astype(int)))\n",
    "    \n",
    "    fold_importance_df = pd.DataFrame()\n",
    "    fold_importance_df[\"feature\"] = cols\n",
    "    fold_importance_df[\"importance\"] = clf.feature_importance()\n",
    "\n",
    "    return {'score': score, 'model': clf, 'prec': prec, 'f1': f1, 'fold_importance': fold_importance_df}"
   ]
  },
  {
   "cell_type": "code",
   "execution_count": 140,
   "metadata": {},
   "outputs": [],
   "source": [
    "def eval_test(models, test_lb):\n",
    "#     test_lb = pd.read_csv('data/test_music.csv')\n",
    "    predictions = []\n",
    "    for model in models:\n",
    "        predict = model.predict(test_lb)\n",
    "        predictions.append(predict)\n",
    "    return np.mean(predictions, axis=0)"
   ]
  },
  {
   "cell_type": "code",
   "execution_count": 141,
   "metadata": {},
   "outputs": [],
   "source": [
    "def prepare_submission(predictions, score=\"Unknown\"):\n",
    "    sub = pd.read_csv('data/sample_submission_music.csv')\n",
    "    sub.prediction = predictions\n",
    "    sub.to_csv('s-%s.csv' % score, index=False)"
   ]
  },
  {
   "cell_type": "code",
   "execution_count": 142,
   "metadata": {},
   "outputs": [],
   "source": [
    "def train_folds(folds, config):\n",
    "    models = []\n",
    "    auc = []\n",
    "    f1 = []\n",
    "    importances = []\n",
    "    for n, fold in enumerate(folds):\n",
    "        train_f, val_f = fold\n",
    "        print(\"Training on %s\" % str(train_f.shape))\n",
    "        result = train_lgbm(train_f, val_f, config)\n",
    "        \n",
    "        importance = result['fold_importance']\n",
    "        importance['fold'] = n\n",
    "        importances.append(importance)\n",
    "        \n",
    "        models.append(result['model'])\n",
    "        auc.append(result['score'])\n",
    "        f1.append(result['f1'])\n",
    "        print(\"Fold %s: %.4f, F1: %.4f, Precision: %.4f\" % (n, result['score'], result['f1'], result['prec']))\n",
    "    return models, {\n",
    "        'auc': np.mean(auc),\n",
    "        'importances': pd.concat(importances, sort=False),\n",
    "        'f1': np.mean(f1)\n",
    "    }"
   ]
  },
  {
   "cell_type": "code",
   "execution_count": 155,
   "metadata": {},
   "outputs": [],
   "source": [
    "folds = prepare_folds(data)"
   ]
  },
  {
   "cell_type": "code",
   "execution_count": null,
   "metadata": {},
   "outputs": [],
   "source": []
  },
  {
   "cell_type": "code",
   "execution_count": null,
   "metadata": {
    "scrolled": true
   },
   "outputs": [
    {
     "name": "stdout",
     "output_type": "stream",
     "text": [
      "Training on (55999, 1261)\n"
     ]
    },
    {
     "name": "stderr",
     "output_type": "stream",
     "text": [
      "/Users/sasha/programming/vodafone-music/.env/lib/python3.7/site-packages/lightgbm/engine.py:116: UserWarning: Found `num_iterations` in params. Will use it instead of argument\n",
      "  warnings.warn(\"Found `{}` in params. Will use it instead of argument\".format(alias))\n"
     ]
    },
    {
     "name": "stdout",
     "output_type": "stream",
     "text": [
      "Training until validation scores don't improve for 500 rounds.\n",
      "[50]\ttrain's auc: 0.854652\tvalid's auc: 0.810328\n",
      "[100]\ttrain's auc: 0.876075\tvalid's auc: 0.817332\n",
      "[150]\ttrain's auc: 0.890041\tvalid's auc: 0.819237\n",
      "[200]\ttrain's auc: 0.90213\tvalid's auc: 0.820569\n",
      "[250]\ttrain's auc: 0.913083\tvalid's auc: 0.82122\n",
      "[300]\ttrain's auc: 0.922776\tvalid's auc: 0.821185\n",
      "[350]\ttrain's auc: 0.931209\tvalid's auc: 0.820988\n",
      "[400]\ttrain's auc: 0.938127\tvalid's auc: 0.820653\n",
      "[450]\ttrain's auc: 0.94456\tvalid's auc: 0.820758\n",
      "[500]\ttrain's auc: 0.950456\tvalid's auc: 0.820257\n",
      "[550]\ttrain's auc: 0.955402\tvalid's auc: 0.820127\n",
      "[600]\ttrain's auc: 0.959822\tvalid's auc: 0.81952\n",
      "[650]\ttrain's auc: 0.964029\tvalid's auc: 0.818913\n",
      "[700]\ttrain's auc: 0.967855\tvalid's auc: 0.81951\n",
      "[750]\ttrain's auc: 0.971241\tvalid's auc: 0.819081\n",
      "Early stopping, best iteration is:\n",
      "[267]\ttrain's auc: 0.917054\tvalid's auc: 0.821827\n",
      "Confusion matrix:\n",
      "[[10975  1965]\n",
      " [  419   642]]\n",
      "Report:\n",
      "              precision    recall  f1-score   support\n",
      "\n",
      "         0.0       0.96      0.85      0.90     12940\n",
      "         1.0       0.25      0.61      0.35      1061\n",
      "\n",
      "   micro avg       0.83      0.83      0.83     14001\n",
      "   macro avg       0.60      0.73      0.63     14001\n",
      "weighted avg       0.91      0.83      0.86     14001\n",
      "\n",
      "Fold 0: 0.8218, F1: 0.3501, Precision: 0.2463\n",
      "Training on (56000, 1261)\n"
     ]
    },
    {
     "name": "stderr",
     "output_type": "stream",
     "text": [
      "/Users/sasha/programming/vodafone-music/.env/lib/python3.7/site-packages/lightgbm/engine.py:116: UserWarning: Found `num_iterations` in params. Will use it instead of argument\n",
      "  warnings.warn(\"Found `{}` in params. Will use it instead of argument\".format(alias))\n"
     ]
    },
    {
     "name": "stdout",
     "output_type": "stream",
     "text": [
      "Training until validation scores don't improve for 500 rounds.\n",
      "[50]\ttrain's auc: 0.850451\tvalid's auc: 0.831886\n",
      "[100]\ttrain's auc: 0.872999\tvalid's auc: 0.837681\n",
      "[150]\ttrain's auc: 0.889934\tvalid's auc: 0.838641\n",
      "[200]\ttrain's auc: 0.901673\tvalid's auc: 0.839386\n",
      "[250]\ttrain's auc: 0.912794\tvalid's auc: 0.838832\n",
      "[300]\ttrain's auc: 0.922156\tvalid's auc: 0.838596\n",
      "[350]\ttrain's auc: 0.931106\tvalid's auc: 0.8381\n",
      "[400]\ttrain's auc: 0.939458\tvalid's auc: 0.837331\n",
      "[450]\ttrain's auc: 0.945001\tvalid's auc: 0.836169\n",
      "[500]\ttrain's auc: 0.951165\tvalid's auc: 0.835398\n",
      "[550]\ttrain's auc: 0.956849\tvalid's auc: 0.834783\n",
      "[600]\ttrain's auc: 0.961462\tvalid's auc: 0.833704\n",
      "[650]\ttrain's auc: 0.965944\tvalid's auc: 0.832961\n",
      "Early stopping, best iteration is:\n",
      "[179]\ttrain's auc: 0.896617\tvalid's auc: 0.839755\n",
      "Confusion matrix:\n",
      "[[10925  2015]\n",
      " [  375   685]]\n",
      "Report:\n",
      "              precision    recall  f1-score   support\n",
      "\n",
      "         0.0       0.97      0.84      0.90     12940\n",
      "         1.0       0.25      0.65      0.36      1060\n",
      "\n",
      "   micro avg       0.83      0.83      0.83     14000\n",
      "   macro avg       0.61      0.75      0.63     14000\n",
      "weighted avg       0.91      0.83      0.86     14000\n",
      "\n",
      "Fold 1: 0.8398, F1: 0.3644, Precision: 0.2537\n",
      "Training on (56000, 1261)\n"
     ]
    },
    {
     "name": "stderr",
     "output_type": "stream",
     "text": [
      "/Users/sasha/programming/vodafone-music/.env/lib/python3.7/site-packages/lightgbm/engine.py:116: UserWarning: Found `num_iterations` in params. Will use it instead of argument\n",
      "  warnings.warn(\"Found `{}` in params. Will use it instead of argument\".format(alias))\n"
     ]
    },
    {
     "name": "stdout",
     "output_type": "stream",
     "text": [
      "Training until validation scores don't improve for 500 rounds.\n",
      "[50]\ttrain's auc: 0.853015\tvalid's auc: 0.827099\n",
      "[100]\ttrain's auc: 0.874154\tvalid's auc: 0.832316\n",
      "[150]\ttrain's auc: 0.888937\tvalid's auc: 0.834599\n",
      "[200]\ttrain's auc: 0.900893\tvalid's auc: 0.835351\n",
      "[250]\ttrain's auc: 0.911796\tvalid's auc: 0.83526\n",
      "[300]\ttrain's auc: 0.921371\tvalid's auc: 0.835575\n"
     ]
    }
   ],
   "source": [
    "models, result = train_folds(folds, config)"
   ]
  },
  {
   "cell_type": "code",
   "execution_count": 146,
   "metadata": {},
   "outputs": [
    {
     "name": "stdout",
     "output_type": "stream",
     "text": [
      "AUC: 0.8327, F1: 0.3645\n"
     ]
    }
   ],
   "source": [
    "print(\"AUC: %.4f, F1: %.4f\" % (result['auc'], result['f1']))"
   ]
  },
  {
   "cell_type": "code",
   "execution_count": 144,
   "metadata": {
    "scrolled": true
   },
   "outputs": [],
   "source": [
    "\n",
    "config = {\n",
    "'num_iterations': 5000,\n",
    "'learning_rate': 0.1,\n",
    "'boosting_type': 'gbdt',\n",
    "'objective': 'binary',\n",
    "'metric':'auc',\n",
    "'num_leaves': 12,\n",
    "'max_depth': 4,\n",
    "'min_data_in_leaf': 500, \n",
    "'reg_alpha': 5,  # L1 regularization term on weights\n",
    "'reg_lambda': 50,\n",
    "'colsample_bytree': 0.9,  # Subsample ratio of columns when constructing each tree.\n",
    "'scale_pos_weight': 9 # because training data is unbalanced \n",
    "}"
   ]
  },
  {
   "cell_type": "code",
   "execution_count": null,
   "metadata": {},
   "outputs": [],
   "source": []
  },
  {
   "cell_type": "code",
   "execution_count": null,
   "metadata": {},
   "outputs": [],
   "source": []
  },
  {
   "cell_type": "code",
   "execution_count": null,
   "metadata": {},
   "outputs": [],
   "source": []
  },
  {
   "cell_type": "code",
   "execution_count": null,
   "metadata": {},
   "outputs": [],
   "source": []
  },
  {
   "cell_type": "code",
   "execution_count": 148,
   "metadata": {},
   "outputs": [],
   "source": [
    "importance = result['importances'].groupby(['feature'])\\\n",
    "                    .agg({'importance': 'mean'})\\\n",
    "                    .sort_values(by=\"importance\",ascending=False)"
   ]
  },
  {
   "cell_type": "code",
   "execution_count": 149,
   "metadata": {},
   "outputs": [],
   "source": [
    "zero_importance = importance[importance.importance == 0].index"
   ]
  },
  {
   "cell_type": "code",
   "execution_count": 150,
   "metadata": {
    "scrolled": true
   },
   "outputs": [
    {
     "data": {
      "text/plain": [
       "Index(['voice_roam_in_cost_m3', 'voice_roam_in_cost_m2',\n",
       "       'sim_count_inact_days_count', 'voice_roam_in_count_m1',\n",
       "       'voice_roam_in_count_m2', 'voice_roam_in_count_m3',\n",
       "       'voice_roam_in_dur_m1', 'voice_roam_in_dur_m2', 'voice_roam_in_dur_m3',\n",
       "       'voice_roam_out_cost_m1',\n",
       "       ...\n",
       "       'data_type_3_m3_div_by_com_num_cost_m2',\n",
       "       'voice_omo_in_night_rest_count_m2', 'voice_omo_in_night_rest_count_m1',\n",
       "       'data_type_3_m3_div_by_short_out_calls_part_m1',\n",
       "       'data_type_3_m3_div_by_short_out_calls_part_m2',\n",
       "       'days_exp_div_by_com_num_cost_m2', 'days_exp_div_by_vol_app_1',\n",
       "       'voice_omo_in_day_work_count_m2', 'days_exp_div_by_vol_app_5',\n",
       "       'abon_cost_m1'],\n",
       "      dtype='object', name='feature', length=386)"
      ]
     },
     "execution_count": 150,
     "metadata": {},
     "output_type": "execute_result"
    }
   ],
   "source": [
    "zero_importance"
   ]
  },
  {
   "cell_type": "code",
   "execution_count": 151,
   "metadata": {},
   "outputs": [],
   "source": [
    "test_lb = pd.read_pickle('data/test.pkl')\n",
    "cols = list(data.columns)\n",
    "cols.remove(\"target\")\n",
    "cols.remove(\"id\")\n",
    "test_lb = test_lb[cols]\n"
   ]
  },
  {
   "cell_type": "code",
   "execution_count": 152,
   "metadata": {},
   "outputs": [],
   "source": [
    "test_target = eval_test(models, test_lb)"
   ]
  },
  {
   "cell_type": "code",
   "execution_count": null,
   "metadata": {},
   "outputs": [],
   "source": []
  },
  {
   "cell_type": "code",
   "execution_count": 153,
   "metadata": {
    "scrolled": true
   },
   "outputs": [],
   "source": [
    "prepare_submission(test_target, \"AUC_%.4f_F1_%.4f\" % (result['auc'], result['f1']))"
   ]
  },
  {
   "cell_type": "code",
   "execution_count": null,
   "metadata": {},
   "outputs": [],
   "source": []
  },
  {
   "cell_type": "code",
   "execution_count": null,
   "metadata": {},
   "outputs": [],
   "source": []
  },
  {
   "cell_type": "code",
   "execution_count": null,
   "metadata": {},
   "outputs": [],
   "source": [
    "# def objective(params):\n",
    "#     params = {\n",
    "#         'num_iterations': 1000,\n",
    "#         'learning_rate': 0.1,\n",
    "#         'boosting_type': 'gbdt',\n",
    "#         'objective': 'binary',\n",
    "#         'metric':'auc',\n",
    "#         'num_leaves': int(params['num_leaves']),\n",
    "#         'max_depth': int(params['max_depth']),\n",
    "#         'reg_alpha': int(params['reg_alpha']),  # L1 regularization term on weights\n",
    "#         'reg_lambda': int(params['reg_lambda']),\n",
    "#         'min_child_samples': int(params['min_child_samples']),  # Minimum number of data need in a child(min_data_in_leaf)\n",
    "#         'max_bin': 100,  # Number of bucketed bin for feature values\n",
    "#         'subsample': float(params['subsample']),  # Subsample ratio of the training instance.\n",
    "#         'subsample_freq': 1,  # frequence of subsample, <=0 means no enable\n",
    "#         'colsample_bytree': float(params['colsample_bytree']),  # Subsample ratio of columns when constructing each tree.\n",
    "#         'min_child_weight': 0,  # Minimum sum of instance weight(hessian) needed in a child(leaf)\n",
    "#         'scale_pos_weight': 9 # because training data is unbalanced \n",
    "#     }\n",
    "#     models, result = train_folds(folds, params)\n",
    "#     return -result['auc']\n",
    "    "
   ]
  },
  {
   "cell_type": "code",
   "execution_count": 115,
   "metadata": {},
   "outputs": [],
   "source": [
    "# space = {\n",
    "#     'num_leaves': hp.quniform('num_leaves', 4, 24, 1),\n",
    "#     'max_depth': hp.quniform('max_depth', 2, 8, 1),\n",
    "#     'reg_alpha': hp.quniform('reg_alpha', 1, 100, 2),\n",
    "#     'reg_lambda': hp.quniform('reg_lambda', 1, 100, 2),\n",
    "#     'min_child_samples': hp.quniform('min_child_samples', 100, 5000, 100),\n",
    "#     'subsample': hp.quniform('subsample', 0.4, 1, 0.1),\n",
    "#     'colsample_bytree': hp.quniform('colsample_bytree', 0.4, 1, 0.1),\n",
    "    \n",
    "# }"
   ]
  },
  {
   "cell_type": "code",
   "execution_count": 116,
   "metadata": {},
   "outputs": [],
   "source": [
    "# %%time\n",
    "# best = fmin(fn=objective,\n",
    "#             space=space,\n",
    "#             algo=tpe.suggest,\n",
    "#             max_evals=100)"
   ]
  },
  {
   "cell_type": "code",
   "execution_count": null,
   "metadata": {},
   "outputs": [],
   "source": []
  },
  {
   "cell_type": "code",
   "execution_count": null,
   "metadata": {},
   "outputs": [],
   "source": []
  },
  {
   "cell_type": "code",
   "execution_count": null,
   "metadata": {},
   "outputs": [],
   "source": []
  }
 ],
 "metadata": {
  "kernelspec": {
   "display_name": "Python 3",
   "language": "python",
   "name": "python3"
  },
  "language_info": {
   "codemirror_mode": {
    "name": "ipython",
    "version": 3
   },
   "file_extension": ".py",
   "mimetype": "text/x-python",
   "name": "python",
   "nbconvert_exporter": "python",
   "pygments_lexer": "ipython3",
   "version": "3.7.0"
  }
 },
 "nbformat": 4,
 "nbformat_minor": 2
}
