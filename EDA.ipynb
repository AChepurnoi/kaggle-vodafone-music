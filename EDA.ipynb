{
 "cells": [
  {
   "cell_type": "code",
   "execution_count": 40,
   "metadata": {},
   "outputs": [],
   "source": [
    "import pandas as pd\n",
    "import numpy as np\n",
    "import matplotlib.pyplot as plt\n",
    "import itertools"
   ]
  },
  {
   "cell_type": "code",
   "execution_count": 41,
   "metadata": {},
   "outputs": [],
   "source": [
    "train = pd.read_csv('data/train_music.csv')\n",
    "test = pd.read_csv('data/test_music.csv')"
   ]
  },
  {
   "cell_type": "code",
   "execution_count": 42,
   "metadata": {
    "scrolled": true
   },
   "outputs": [],
   "source": [
    "device_features = {\n",
    "    'id': 'n',\n",
    "    'device_type': 'c',\n",
    "    'manufacturer_category': 'c',\n",
    "    'os_category': 'c',\n",
    "    'sim_count': 'c'\n",
    "}"
   ]
  },
  {
   "cell_type": "code",
   "execution_count": 43,
   "metadata": {},
   "outputs": [],
   "source": [
    "general_features = {\n",
    "    'tp_flag': 'c',\n",
    "    'lt': 'n',\n",
    "    'block_flag': 'c',\n",
    "    'days_exp': 'n',\n",
    "    'service_1_flag': 'c',\n",
    "    'service_1_count': 'n',\n",
    "    'service_2_flag': 'c',\n",
    "    'service_3_flag': 'c',\n",
    "    'is_obl_center': 'c',\n",
    "    'is_my_vf': 'c'\n",
    "}"
   ]
  },
  {
   "cell_type": "code",
   "execution_count": 44,
   "metadata": {},
   "outputs": [],
   "source": [
    "user_activity_features = {\n",
    " 'balance_sum': 'n',\n",
    " 'paym_last_days': 'n',\n",
    " 'inact_days_count': 'c'\n",
    "}\n"
   ]
  },
  {
   "cell_type": "code",
   "execution_count": 45,
   "metadata": {},
   "outputs": [],
   "source": [
    "dynamics_features_generic = {\n",
    "    'service_P_flag': 'c', \n",
    "    'block_all_dur': 'n',\n",
    "    'block_count': 'n',\n",
    "    'all_cost': 'n',\n",
    "    'all_home_clc': 'n',\n",
    "    'all_roam_cost': 'n',\n",
    "    'sms_cost': 'n',\n",
    "    'sms_roam_cost': 'n',\n",
    "    'content_cost': 'n',\n",
    "    'abon_cost': 'n',\n",
    "    'abon_part': 'n',\n",
    "    'act_days_count': 'n',\n",
    "    'com_num_cost': 'n',\n",
    "    'conn_com_cost': 'n',\n",
    "    'paym_el_count': 'n',\n",
    "    'paym_el_sum': 'n',\n",
    "    'paym_sum': 'n',\n",
    "    'pay_in_P2P_cost': 'n',\n",
    "    'pay_out_P2P_cost': 'n',\n",
    "    'paym_count': 'n'\n",
    "}\n",
    "dynamics_features_m1 = {'{}_m1'.format(x):y for x, y in dynamics_features_generic.items()}\n",
    "dynamics_features_m2 = {'{}_m2'.format(x):y for x, y in dynamics_features_generic.items()}\n",
    "dynamics_features_m3 = {'{}_m3'.format(x):y for x, y in dynamics_features_generic.items()}\n"
   ]
  },
  {
   "cell_type": "code",
   "execution_count": 46,
   "metadata": {},
   "outputs": [],
   "source": [
    "all_features = {\n",
    "    **device_features,\n",
    "    **general_features,\n",
    "    **user_activity_features,\n",
    "    **dynamics_features_m1,\n",
    "    **dynamics_features_m2,\n",
    "    **dynamics_features_m3\n",
    "}\n",
    "\n",
    "other_features = set(train.columns).difference(set(all_features.keys()))"
   ]
  },
  {
   "cell_type": "code",
   "execution_count": 47,
   "metadata": {},
   "outputs": [],
   "source": [
    "all_features = {\n",
    "    **all_features,\n",
    "    **{f: 'n' for f in other_features}\n",
    "}\n",
    "del all_features['target']"
   ]
  },
  {
   "cell_type": "code",
   "execution_count": null,
   "metadata": {},
   "outputs": [],
   "source": []
  },
  {
   "cell_type": "code",
   "execution_count": null,
   "metadata": {},
   "outputs": [],
   "source": []
  },
  {
   "cell_type": "code",
   "execution_count": 48,
   "metadata": {},
   "outputs": [],
   "source": [
    "def drop_outliers(data, qt=0.99):\n",
    "    q = data.quantile(qt)\n",
    "    return data[data < q]"
   ]
  },
  {
   "cell_type": "code",
   "execution_count": null,
   "metadata": {},
   "outputs": [],
   "source": []
  },
  {
   "cell_type": "code",
   "execution_count": 50,
   "metadata": {
    "scrolled": true
   },
   "outputs": [],
   "source": [
    "def prepare_types(data, features):\n",
    "    df = data.copy()\n",
    "    for f, t in features.items():\n",
    "        if t is 'c' and f not in ['id']:\n",
    "            df.loc[:, f] = df.loc[:, f].astype(int)\n",
    "        elif t is 'n':\n",
    "            df.loc[:, f] = df.loc[:, f].astype(float)\n",
    "    return df"
   ]
  },
  {
   "cell_type": "code",
   "execution_count": 51,
   "metadata": {},
   "outputs": [],
   "source": [
    "def fill_na(data):\n",
    "    data = data.copy()\n",
    "    data.loc[:, 'sim_count'] = data.loc[:, 'sim_count'].fillna(100)\n",
    "    data.loc[:, 'tp_flag'] = data.loc[:, 'tp_flag'].fillna(0)\n",
    "    data.loc[:, 'service_1_flag'] = data.loc[:, 'service_1_flag'].fillna(100)\n",
    "    data.loc[:, 'service_2_flag'] = data.loc[:, 'service_2_flag'].fillna(100)\n",
    "    data.loc[:, 'service_3_flag'] = data.loc[:, 'service_3_flag'].fillna(100)\n",
    "    data.loc[:, 'is_obl_center'] = data.loc[:, 'is_obl_center'].fillna(100)\n",
    "    data.loc[:, 'inact_days_count'] = data.loc[:, 'inact_days_count'].fillna(0)\n",
    "    data.loc[:, 'service_P_flag_m1'] = data.loc[:, 'service_P_flag_m1'].fillna(100)\n",
    "    data.loc[:, 'service_P_flag_m2'] = data.loc[:, 'service_P_flag_m2'].fillna(100)\n",
    "    data.loc[:, 'service_P_flag_m3'] = data.loc[:, 'service_P_flag_m3'].fillna(100)\n",
    "    \n",
    "    return data"
   ]
  },
  {
   "cell_type": "code",
   "execution_count": null,
   "metadata": {},
   "outputs": [],
   "source": []
  },
  {
   "cell_type": "code",
   "execution_count": null,
   "metadata": {},
   "outputs": [],
   "source": []
  },
  {
   "cell_type": "code",
   "execution_count": null,
   "metadata": {},
   "outputs": [],
   "source": []
  },
  {
   "cell_type": "code",
   "execution_count": 52,
   "metadata": {},
   "outputs": [],
   "source": [
    "train = fill_na(train)"
   ]
  },
  {
   "cell_type": "code",
   "execution_count": 53,
   "metadata": {},
   "outputs": [],
   "source": [
    "test = fill_na(test)"
   ]
  },
  {
   "cell_type": "code",
   "execution_count": 54,
   "metadata": {},
   "outputs": [],
   "source": [
    "train = prepare_types(train, all_features)"
   ]
  },
  {
   "cell_type": "code",
   "execution_count": null,
   "metadata": {},
   "outputs": [],
   "source": []
  },
  {
   "cell_type": "code",
   "execution_count": 55,
   "metadata": {},
   "outputs": [],
   "source": [
    "test = prepare_types(test, all_features)"
   ]
  },
  {
   "cell_type": "code",
   "execution_count": null,
   "metadata": {},
   "outputs": [],
   "source": []
  },
  {
   "cell_type": "code",
   "execution_count": 56,
   "metadata": {},
   "outputs": [],
   "source": [
    "train = train[list({'target': 'c', **all_features}.keys())]"
   ]
  },
  {
   "cell_type": "code",
   "execution_count": 57,
   "metadata": {},
   "outputs": [],
   "source": [
    "test = test[list(all_features.keys())]"
   ]
  },
  {
   "cell_type": "code",
   "execution_count": null,
   "metadata": {},
   "outputs": [],
   "source": []
  },
  {
   "cell_type": "code",
   "execution_count": null,
   "metadata": {},
   "outputs": [],
   "source": []
  },
  {
   "cell_type": "code",
   "execution_count": 58,
   "metadata": {},
   "outputs": [],
   "source": [
    "train_test = pd.concat([train, test], sort=False)\\\n",
    "#                 .replace([np.inf], 0)\n",
    "                #Check this later, potentially bad"
   ]
  },
  {
   "cell_type": "code",
   "execution_count": 19,
   "metadata": {},
   "outputs": [],
   "source": [
    "def receipt_diff_process(data, receipt):\n",
    "    target_group, rec = receipt\n",
    "    b = data[[*target_group, *list(rec.keys())]]\n",
    "    a = b.groupby(target_group).agg(rec)\n",
    "    a.columns = [\"_\".join(x) for x in a.columns.ravel()]\n",
    "    merged = b.merge(a, left_on=target_group, right_index=True, how='left')\n",
    "    df = {}\n",
    "    target_group_name = \"_\".join(target_group)\n",
    "    for k in rec.keys():\n",
    "        target_cat = k\n",
    "        names = ([\"{}_{}\".format(k, x) for x in rec[k]])\n",
    "        for name in names:\n",
    "            col = merged[name] - merged[target_cat] \n",
    "            col_name = \"{}_diff_{}_group_{}\".format(target_cat, name, target_group_name)\n",
    "            df[col_name] = col\n",
    "    return pd.DataFrame(df)"
   ]
  },
  {
   "cell_type": "code",
   "execution_count": 21,
   "metadata": {},
   "outputs": [],
   "source": [
    "# receipts = [\n",
    "#     (['manufacturer_category'],{\n",
    "#         'lt': ['mean', 'median'],\n",
    "#         'balance_sum': ['mean', 'median'],\n",
    "#         'service_1_count': ['mean', 'median']\n",
    "#     }),\n",
    "#     (['manufacturer_category', 'device_type'],{\n",
    "#         'lt': ['mean', 'median']\n",
    "#     })\n",
    "# ]"
   ]
  },
  {
   "cell_type": "code",
   "execution_count": 59,
   "metadata": {},
   "outputs": [],
   "source": [
    "cats = {x: y for x, y in all_features.items() if x != 'id' and y is 'c'}\n",
    "nums = {x: ['mean', 'median'] for x, y in all_features.items() if x != 'id' and y is 'n'}"
   ]
  },
  {
   "cell_type": "code",
   "execution_count": 60,
   "metadata": {},
   "outputs": [],
   "source": [
    "receipts = [([x], nums) for x in cats.keys()]"
   ]
  },
  {
   "cell_type": "code",
   "execution_count": null,
   "metadata": {},
   "outputs": [],
   "source": []
  },
  {
   "cell_type": "code",
   "execution_count": 29,
   "metadata": {},
   "outputs": [
    {
     "name": "stdout",
     "output_type": "stream",
     "text": [
      "Processing ['device_type']\n",
      "Processing ['manufacturer_category']\n",
      "Processing ['os_category']\n",
      "Processing ['sim_count']\n",
      "Processing ['tp_flag']\n",
      "Processing ['block_flag']\n",
      "Processing ['service_1_flag']\n",
      "Processing ['service_2_flag']\n",
      "Processing ['service_3_flag']\n",
      "Processing ['is_obl_center']\n",
      "Processing ['is_my_vf']\n",
      "Processing ['inact_days_count']\n",
      "Processing ['service_P_flag_m1']\n",
      "Processing ['service_P_flag_m2']\n",
      "Processing ['service_P_flag_m3']\n"
     ]
    }
   ],
   "source": [
    "features = []\n",
    "for receipt in receipts:\n",
    "    print(\"Processing {}\".format(receipt[0]))\n",
    "    res = receipt_diff_process(train_test, receipt)\n",
    "    features.append(res)"
   ]
  },
  {
   "cell_type": "code",
   "execution_count": 30,
   "metadata": {},
   "outputs": [],
   "source": [
    "features = pd.concat(features, axis=1)"
   ]
  },
  {
   "cell_type": "code",
   "execution_count": null,
   "metadata": {},
   "outputs": [],
   "source": []
  },
  {
   "cell_type": "code",
   "execution_count": 36,
   "metadata": {},
   "outputs": [
    {
     "ename": "NameError",
     "evalue": "name 'features' is not defined",
     "output_type": "error",
     "traceback": [
      "\u001b[0;31m---------------------------------------------------------------------------\u001b[0m",
      "\u001b[0;31mNameError\u001b[0m                                 Traceback (most recent call last)",
      "\u001b[0;32m<ipython-input-36-cc2f60708374>\u001b[0m in \u001b[0;36m<module>\u001b[0;34m\u001b[0m\n\u001b[0;32m----> 1\u001b[0;31m \u001b[0mtrain_test\u001b[0m \u001b[0;34m=\u001b[0m \u001b[0mpd\u001b[0m\u001b[0;34m.\u001b[0m\u001b[0mconcat\u001b[0m\u001b[0;34m(\u001b[0m\u001b[0;34m[\u001b[0m\u001b[0mtrain_test\u001b[0m\u001b[0;34m,\u001b[0m \u001b[0mfeatures\u001b[0m\u001b[0;34m]\u001b[0m\u001b[0;34m,\u001b[0m \u001b[0maxis\u001b[0m\u001b[0;34m=\u001b[0m\u001b[0;36m1\u001b[0m\u001b[0;34m)\u001b[0m\u001b[0;34m\u001b[0m\u001b[0m\n\u001b[0m",
      "\u001b[0;31mNameError\u001b[0m: name 'features' is not defined"
     ]
    }
   ],
   "source": [
    "train_test = pd.concat([train_test, features], axis=1)"
   ]
  },
  {
   "cell_type": "code",
   "execution_count": 37,
   "metadata": {},
   "outputs": [],
   "source": []
  },
  {
   "cell_type": "code",
   "execution_count": null,
   "metadata": {},
   "outputs": [],
   "source": []
  },
  {
   "cell_type": "code",
   "execution_count": 61,
   "metadata": {},
   "outputs": [],
   "source": [
    "def combine_cat_features(data, features, interactions=2):\n",
    "    combinations = list(itertools.combinations(features, interactions))\n",
    "    generated = {}\n",
    "    for combination in combinations:\n",
    "        f_name = \"_\".join(combination)\n",
    "        res = data[combination[0]].astype(str)\n",
    "        for feature in combination[1:]:\n",
    "            res = res + \"_\" + data[feature].astype(str)\n",
    "        \n",
    "        generated[f_name] = res\n",
    "    return pd.DataFrame(generated)"
   ]
  },
  {
   "cell_type": "code",
   "execution_count": 62,
   "metadata": {},
   "outputs": [],
   "source": [
    "gen = combine_cat_features(train_test, list(cats.keys()))"
   ]
  },
  {
   "cell_type": "code",
   "execution_count": 63,
   "metadata": {},
   "outputs": [],
   "source": [
    "factored = gen.apply(lambda x: pd.factorize(x)[0])"
   ]
  },
  {
   "cell_type": "code",
   "execution_count": null,
   "metadata": {},
   "outputs": [],
   "source": []
  },
  {
   "cell_type": "code",
   "execution_count": null,
   "metadata": {},
   "outputs": [],
   "source": []
  },
  {
   "cell_type": "code",
   "execution_count": 35,
   "metadata": {},
   "outputs": [],
   "source": [
    "train_test = pd.concat([train_test, factored], axis=1)"
   ]
  },
  {
   "cell_type": "code",
   "execution_count": 36,
   "metadata": {},
   "outputs": [],
   "source": [
    "train_test = pd.concat([train_test, num50_f], axis=1)"
   ]
  },
  {
   "cell_type": "code",
   "execution_count": null,
   "metadata": {},
   "outputs": [],
   "source": []
  },
  {
   "cell_type": "code",
   "execution_count": null,
   "metadata": {},
   "outputs": [],
   "source": []
  },
  {
   "cell_type": "code",
   "execution_count": 37,
   "metadata": {},
   "outputs": [],
   "source": [
    "train = train_test[~train_test.target.isna()]\n",
    "test = train_test[train_test.target.isna()].drop(columns=[\"target\"])"
   ]
  },
  {
   "cell_type": "code",
   "execution_count": null,
   "metadata": {},
   "outputs": [],
   "source": []
  },
  {
   "cell_type": "code",
   "execution_count": 38,
   "metadata": {
    "scrolled": false
   },
   "outputs": [],
   "source": [
    "train.to_pickle('data/train.pkl')"
   ]
  },
  {
   "cell_type": "code",
   "execution_count": 39,
   "metadata": {},
   "outputs": [],
   "source": [
    "test.to_pickle('data/test.pkl')"
   ]
  },
  {
   "cell_type": "code",
   "execution_count": 74,
   "metadata": {},
   "outputs": [],
   "source": []
  },
  {
   "cell_type": "code",
   "execution_count": null,
   "metadata": {},
   "outputs": [],
   "source": []
  },
  {
   "cell_type": "code",
   "execution_count": null,
   "metadata": {
    "scrolled": true
   },
   "outputs": [],
   "source": []
  },
  {
   "cell_type": "code",
   "execution_count": null,
   "metadata": {},
   "outputs": [],
   "source": []
  },
  {
   "cell_type": "code",
   "execution_count": 25,
   "metadata": {},
   "outputs": [],
   "source": [
    "top50_fit = ['lt',\n",
    " 'balance_sum',\n",
    " 'content_count_m1',\n",
    " 'content_count_m3',\n",
    " 'data_type_2_m1',\n",
    " 'days_exp',\n",
    " 'data_type_3_m1',\n",
    " 'count_app_4',\n",
    " 'data_type_2_m2',\n",
    " 'vol_app_7',\n",
    " 'content_count_m2',\n",
    " 'data_type_1_m1',\n",
    " 'os_category_is_my_vf',\n",
    " 'all_cost_m1',\n",
    " 'count_app_5',\n",
    " 'service_1_count',\n",
    " 'count_url_category_2',\n",
    " 'all_count_m1',\n",
    " 'vol_app_4',\n",
    " 'short_out_calls_part_m3',\n",
    " 'sms_in_count_m1',\n",
    " 'data_type_2_m3',\n",
    " 'count_sms_source_4',\n",
    " 'data_type_3_m3',\n",
    " 'vol_app_5',\n",
    " 'data_type_3_m2',\n",
    " 'paym_last_days',\n",
    " 'count_app_1',\n",
    " 'short_out_calls_part_m1',\n",
    " 'vol_app_1',\n",
    " 'short_in_calls_part_m1',\n",
    " 'all_cost_m3',\n",
    " 'count_act_type_1',\n",
    " 'manufacturer_category_is_my_vf',\n",
    " 'sms_in_count_m3',\n",
    " 'voice_onnet_in_night_rest_dur_m1',\n",
    " 'sms_in_count_m2',\n",
    " 'vol_app_10',\n",
    " 'paym_el_sum_m3',\n",
    " 'paym_sum_m1',\n",
    " 'conn_com_cost_m3',\n",
    " 'paym_sum_m3',\n",
    " 'voice_all_in_dur_m3',\n",
    " 'all_count_m3',\n",
    " 'short_in_calls_part_m3',\n",
    " 'com_num_cost_m2',\n",
    " 'manufacturer_category_service_P_flag_m3',\n",
    " 'short_out_calls_part_m2',\n",
    " 'voice_omo_in_night_work_dur_m2',\n",
    " 'paym_sum_m2']\n",
    "current_cols = list(train.columns)\n",
    "top50_fit = [x for x in top50_fit if x in current_cols]"
   ]
  },
  {
   "cell_type": "code",
   "execution_count": null,
   "metadata": {},
   "outputs": [],
   "source": []
  },
  {
   "cell_type": "code",
   "execution_count": 26,
   "metadata": {},
   "outputs": [],
   "source": [
    "num50 = list(train[top50_fit].dtypes[train[top50_fit].dtypes != int].index)"
   ]
  },
  {
   "cell_type": "code",
   "execution_count": null,
   "metadata": {},
   "outputs": [],
   "source": []
  },
  {
   "cell_type": "code",
   "execution_count": 29,
   "metadata": {},
   "outputs": [],
   "source": [
    "def combine_div_num_features(data, features, op):\n",
    "    combinations = list(itertools.combinations(features, 2))\n",
    "    generated = {}\n",
    "    for combination in combinations:\n",
    "        f_name = \"_div_by_\".join(combination)\n",
    "        res = op(data[combination[0]], data[combination[1]])\n",
    "        generated[f_name] = res\n",
    "    return pd.DataFrame(generated)"
   ]
  },
  {
   "cell_type": "code",
   "execution_count": 32,
   "metadata": {},
   "outputs": [],
   "source": [
    "num50_divs = combine_div_num_features(train_test, num50, lambda x, y: x - y)"
   ]
  },
  {
   "cell_type": "code",
   "execution_count": 33,
   "metadata": {},
   "outputs": [],
   "source": [
    "num50_f = num50_divs.replace(np.inf, np.nan)"
   ]
  },
  {
   "cell_type": "code",
   "execution_count": null,
   "metadata": {},
   "outputs": [],
   "source": []
  },
  {
   "cell_type": "code",
   "execution_count": null,
   "metadata": {},
   "outputs": [],
   "source": []
  },
  {
   "cell_type": "code",
   "execution_count": null,
   "metadata": {},
   "outputs": [],
   "source": []
  },
  {
   "cell_type": "code",
   "execution_count": null,
   "metadata": {},
   "outputs": [],
   "source": []
  },
  {
   "cell_type": "code",
   "execution_count": null,
   "metadata": {},
   "outputs": [],
   "source": []
  }
 ],
 "metadata": {
  "kernelspec": {
   "display_name": "Python 3",
   "language": "python",
   "name": "python3"
  },
  "language_info": {
   "codemirror_mode": {
    "name": "ipython",
    "version": 3
   },
   "file_extension": ".py",
   "mimetype": "text/x-python",
   "name": "python",
   "nbconvert_exporter": "python",
   "pygments_lexer": "ipython3",
   "version": "3.7.0"
  }
 },
 "nbformat": 4,
 "nbformat_minor": 2
}
